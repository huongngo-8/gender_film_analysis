{
 "cells": [
  {
   "cell_type": "code",
   "execution_count": null,
   "metadata": {},
   "outputs": [],
   "source": [
    "# imports\n",
    "import numpy as np\n",
    "import pandas as pd\n",
    "import seaborn as sns\n",
    "import matplotlib.pyplot as plt"
   ]
  },
  {
   "cell_type": "code",
   "execution_count": null,
   "metadata": {},
   "outputs": [],
   "source": [
    "# import datasets\n",
    "netflix_shows = pd.read_csv(\"/Users/stlp/Desktop/zuckflix_meta/Data/netflix_shows.csv\")\n",
    "netflix_films = pd.read_csv(\"/Users/stlp/Desktop/zuckflix_meta/Data/netflix_films.csv\")\n",
    "netflix_titles = pd.read_csv(\"/Users/stlp/Desktop/zuckflix_meta/Data/netflix_titles_2.csv\")"
   ]
  },
  {
   "cell_type": "code",
   "execution_count": null,
   "metadata": {},
   "outputs": [],
   "source": [
    "netflix_shows.head()"
   ]
  },
  {
   "cell_type": "code",
   "execution_count": null,
   "metadata": {},
   "outputs": [],
   "source": [
    "netflix_films.head()"
   ]
  },
  {
   "cell_type": "code",
   "execution_count": null,
   "metadata": {},
   "outputs": [],
   "source": [
    "# function to get unique values of a column\n",
    "def getUnique(data):\n",
    "    unique_values = set()\n",
    "    for value in data:\n",
    "        if type(value) is float:\n",
    "            unique_values.add(None)\n",
    "        else:\n",
    "            values = value.split(\", \")\n",
    "            for i in values:\n",
    "                unique_values.add(i)\n",
    "    return list(unique_values)"
   ]
  },
  {
   "cell_type": "code",
   "execution_count": null,
   "metadata": {},
   "outputs": [],
   "source": [
    "# function get count of a unique value that is part of a column that needs to be parsed\n",
    "def getCount(data, token):\n",
    "    count = 0\n",
    "    for value in data:\n",
    "        if type(value) is not float:\n",
    "            values = value.split(\", \")\n",
    "            if token in values:\n",
    "                count += 1\n",
    "    return count"
   ]
  },
  {
   "cell_type": "code",
   "execution_count": null,
   "metadata": {},
   "outputs": [],
   "source": [
    "# Unique genres and countries from dataset\n",
    "unique_genres_shows = getUnique(netflix_shows['listed_in'])\n",
    "unique_genres_films = getUnique(netflix_films['listed_in'])\n",
    "unique_countries_shows = getUnique(netflix_shows['country'])\n",
    "unique_countries_films = getUnique(netflix_films['country'])"
   ]
  },
  {
   "cell_type": "code",
   "execution_count": null,
   "metadata": {},
   "outputs": [],
   "source": [
    "unique_genres_films.remove('Movies')\n",
    "unique_genres_films.remove('International Movies')\n",
    "unique_genres_films.remove('Independent Movies')\n",
    "unique_genres_shows.remove('International TV Shows')"
   ]
  },
  {
   "cell_type": "code",
   "execution_count": null,
   "metadata": {},
   "outputs": [],
   "source": [
    "unique_genres_shows_df = pd.DataFrame(unique_genres_shows, columns = ['unique_genres'])\n",
    "unique_genres_shows_df.to_csv(\"/Users/stlp/Desktop/zuckflix_meta/Data/unique_genres_shows.csv\", index = False)\n",
    "\n",
    "unique_genres_films_df = pd.DataFrame(unique_genres_films, columns = ['unique_genres'])\n",
    "unique_genres_films_df.to_csv(\"/Users/stlp/Desktop/zuckflix_meta/Data/unique_genres_films.csv\", index = False)\n",
    "\n",
    "unique_countries_shows_df = pd.DataFrame(unique_countries_shows, columns = ['unique_genres'])\n",
    "unique_countries_shows_df.to_csv(\"/Users/stlp/Desktop/zuckflix_meta/Data/unique_countries_shows.csv\", index = False)\n",
    "\n",
    "unique_countries_films_df = pd.DataFrame(unique_countries_films, columns = ['unique_genres'])\n",
    "unique_countries_films_df.to_csv(\"/Users/stlp/Desktop/zuckflix_meta/Data/unique_countries_films.csv\", index = False)\n"
   ]
  },
  {
   "cell_type": "markdown",
   "metadata": {},
   "source": [
    "## Baseline Stats and Preliminary Visualizations"
   ]
  },
  {
   "cell_type": "markdown",
   "metadata": {},
   "source": [
    "### Duration"
   ]
  },
  {
   "cell_type": "code",
   "execution_count": null,
   "metadata": {},
   "outputs": [],
   "source": [
    "# Statistics on Duration of Shows\n",
    "netflix_shows[['seasons']].describe()"
   ]
  },
  {
   "cell_type": "code",
   "execution_count": null,
   "metadata": {},
   "outputs": [],
   "source": [
    "# Statistics on Duration of Movies\n",
    "netflix_films[['length']].describe()"
   ]
  },
  {
   "cell_type": "code",
   "execution_count": null,
   "metadata": {},
   "outputs": [],
   "source": [
    "figs, axes = plt.subplots(1, 2, figsize = (10, 5))\n",
    "\n",
    "season_dist = sns.histplot(data = netflix_shows, x = 'seasons', discrete = True, ax = axes[0])\n",
    "season_dist.set_xlim(0, 18)\n",
    "season_dist.set_title(\"Distribution of TV show seasons\")\n",
    "\n",
    "length_dist = sns.histplot(data = netflix_films, x = 'length', bins = 20, ax = axes[1])\n",
    "length_dist.set_title(\"Distribution of film lengths\")"
   ]
  },
  {
   "cell_type": "markdown",
   "metadata": {},
   "source": [
    "### Release Year"
   ]
  },
  {
   "cell_type": "code",
   "execution_count": null,
   "metadata": {},
   "outputs": [],
   "source": [
    "# Statistics on Release Year of Shows\n",
    "netflix_shows[['release_year']].describe()"
   ]
  },
  {
   "cell_type": "code",
   "execution_count": null,
   "metadata": {},
   "outputs": [],
   "source": [
    "# Statistics on Release Year of Movies\n",
    "netflix_films[['release_year']].describe()"
   ]
  },
  {
   "cell_type": "code",
   "execution_count": null,
   "metadata": {},
   "outputs": [],
   "source": [
    "figs, axes = plt.subplots(2, 1, figsize = (10, 10))\n",
    "\n",
    "release_year_s = sns.histplot(data = netflix_shows, x = 'release_year', discrete = True, ax = axes[0])\n",
    "release_year_s.set_title(\"Distribution of TV Show release years\")\n",
    "\n",
    "release_year_f = sns.histplot(data = netflix_films, x = 'release_year', discrete = True, ax = axes[1])\n",
    "release_year_f.set_title(\"Distribution of film release years\")"
   ]
  },
  {
   "cell_type": "markdown",
   "metadata": {},
   "source": [
    "### Month Added"
   ]
  },
  {
   "cell_type": "code",
   "execution_count": null,
   "metadata": {},
   "outputs": [],
   "source": [
    "netflix_shows[['month_added']].describe()"
   ]
  },
  {
   "cell_type": "code",
   "execution_count": null,
   "metadata": {},
   "outputs": [],
   "source": [
    "netflix_films[['month_added']].describe()"
   ]
  },
  {
   "cell_type": "code",
   "execution_count": null,
   "metadata": {},
   "outputs": [],
   "source": [
    "figs, axes = plt.subplots(1, 2, figsize = (10, 5))\n",
    "\n",
    "month_added_s = sns.histplot(data = netflix_shows, x = 'month_added', discrete = True, ax = axes[0])\n",
    "month_added_s.set_title(\"Distribution of TV shows (month added)\")\n",
    "\n",
    "month_added_f = sns.histplot(data = netflix_films, x = 'month_added', discrete = True, ax = axes[1])\n",
    "month_added_f.set_title(\"Distribution of films (month added)\")"
   ]
  },
  {
   "cell_type": "markdown",
   "metadata": {},
   "source": [
    "### Rating"
   ]
  },
  {
   "cell_type": "code",
   "execution_count": null,
   "metadata": {},
   "outputs": [],
   "source": [
    "netflix_films['rating'].value_counts(dropna = False)"
   ]
  },
  {
   "cell_type": "code",
   "execution_count": null,
   "metadata": {},
   "outputs": [],
   "source": [
    "rating_show_dist = pd.DataFrame({\"rating\":netflix_shows['rating'].value_counts(dropna = False).index.tolist(), \"count\":netflix_shows['rating'].value_counts(dropna = False)})\n",
    "rating_film_dist = pd.DataFrame({\"rating\":netflix_films['rating'].value_counts(dropna = False).index.tolist(), \"count\":netflix_films['rating'].value_counts(dropna = False)})"
   ]
  },
  {
   "cell_type": "code",
   "execution_count": null,
   "metadata": {},
   "outputs": [],
   "source": [
    "rating_show_dist.drop([float(\"NaN\")], axis = 0)"
   ]
  },
  {
   "cell_type": "code",
   "execution_count": null,
   "metadata": {},
   "outputs": [],
   "source": [
    "rating_film_dist.drop([float(\"NaN\")], axis = 0)"
   ]
  },
  {
   "cell_type": "code",
   "execution_count": null,
   "metadata": {},
   "outputs": [],
   "source": [
    "figs, axes = plt.subplots(1, 2, figsize = (25, 10))\n",
    "\n",
    "rating_dist_s = sns.barplot(x = 'rating', y = 'count', data = rating_show_dist, ax = axes[0])\n",
    "rating_dist_s.set_title(\"Distribution of TV show ratings\")\n",
    "\n",
    "rating_dist_f = sns.barplot(x = 'rating', y = 'count', data = rating_film_dist, ax = axes[1])\n",
    "rating_dist_f.set_title(\"Distribution of film ratings\")\n"
   ]
  },
  {
   "cell_type": "markdown",
   "metadata": {},
   "source": [
    "### Countries"
   ]
  },
  {
   "cell_type": "code",
   "execution_count": null,
   "metadata": {},
   "outputs": [],
   "source": [
    "country_dict_s = dict.fromkeys(unique_countries_shows, 0)\n",
    "for country in unique_countries_shows:\n",
    "    count_s = getCount(netflix_shows['country'], country)\n",
    "    country_dict_s[country] = count_s\n",
    "\n",
    "country_dict_f = dict.fromkeys(unique_countries_films, 0)\n",
    "for country in unique_countries_films:\n",
    "    count_f = getCount(netflix_films['country'], country)\n",
    "    country_dict_f[country] = count_f"
   ]
  },
  {
   "cell_type": "code",
   "execution_count": null,
   "metadata": {},
   "outputs": [],
   "source": [
    "country_df_s = pd.DataFrame({\"country\": country_dict_s.keys(), \"count\": country_dict_s.values()})\n",
    "country_df_f = pd.DataFrame({\"country\": country_dict_f.keys(), \"count\": country_dict_f.values()})"
   ]
  },
  {
   "cell_type": "code",
   "execution_count": null,
   "metadata": {},
   "outputs": [],
   "source": [
    "country_count_s = country_df_s.sort_values(by=['count'], ascending = False).head(10)\n",
    "country_count_s"
   ]
  },
  {
   "cell_type": "code",
   "execution_count": null,
   "metadata": {},
   "outputs": [],
   "source": [
    "country_count_f = country_df_f.sort_values(by=['count'], ascending = False).head(10)\n",
    "country_count_f"
   ]
  },
  {
   "cell_type": "code",
   "execution_count": null,
   "metadata": {},
   "outputs": [],
   "source": [
    "figs, axes = plt.subplots(2, 1, figsize = (15, 10))\n",
    "\n",
    "country_dist_s = sns.barplot(x = 'country', y = 'count', data = country_count_s, ax = axes[0])\n",
    "country_dist_s.set_title(\"Distribution of top 10 countries (TV Shows)\")\n",
    "\n",
    "country_dist_f = sns.barplot(x = 'country', y = 'count', data = country_count_f, ax = axes[1])\n",
    "country_dist_f.set_title(\"Distribution of top 10 countries (films)\")"
   ]
  },
  {
   "cell_type": "markdown",
   "metadata": {},
   "source": [
    "### Genres"
   ]
  },
  {
   "cell_type": "code",
   "execution_count": null,
   "metadata": {},
   "outputs": [],
   "source": [
    "genre_dict_s = dict.fromkeys(unique_genres_shows, 0)\n",
    "for genre in unique_genres_shows:\n",
    "    count_s = getCount(netflix_shows['listed_in'], genre)\n",
    "    genre_dict_s[genre] = count_s\n",
    "\n",
    "genre_dict_f = dict.fromkeys(unique_genres_films, 0)\n",
    "for genre in unique_genres_films:\n",
    "    count_f = getCount(netflix_films['listed_in'], genre)\n",
    "    genre_dict_f[genre] = count_f"
   ]
  },
  {
   "cell_type": "code",
   "execution_count": null,
   "metadata": {},
   "outputs": [],
   "source": [
    "genre_df_s = pd.DataFrame({\"genre\": genre_dict_s.keys(), \"count\": genre_dict_s.values()})\n",
    "genre_df_f = pd.DataFrame({\"genre\": genre_dict_f.keys(), \"count\": genre_dict_f.values()})"
   ]
  },
  {
   "cell_type": "code",
   "execution_count": null,
   "metadata": {},
   "outputs": [],
   "source": [
    "genre_count_s = genre_df_s.sort_values(by=['count'], ascending = False).head(10)\n",
    "genre_count_s"
   ]
  },
  {
   "cell_type": "code",
   "execution_count": null,
   "metadata": {},
   "outputs": [],
   "source": [
    "genre_count_f = genre_df_f.sort_values(by=['count'], ascending = False).head(10)\n",
    "genre_count_f"
   ]
  },
  {
   "cell_type": "code",
   "execution_count": null,
   "metadata": {},
   "outputs": [],
   "source": [
    "figs, axes = plt.subplots(2, 1, figsize = (23, 10))\n",
    "\n",
    "genre_dist_s = sns.barplot(x = 'genre', y = 'count', data = genre_count_s, ax = axes[0])\n",
    "genre_dist_s.set_title(\"Distribution of top 10 genres (TV Shows)\")\n",
    "\n",
    "genre_dist_f = sns.barplot(x = 'genre', y = 'count', data = genre_count_f, ax = axes[1])\n",
    "genre_dist_f.set_title(\"Distribution of top 10 genres (films)\")"
   ]
  },
  {
   "cell_type": "markdown",
   "metadata": {},
   "source": [
    "## Exploring Relationships"
   ]
  },
  {
   "cell_type": "markdown",
   "metadata": {},
   "source": [
    "### What variables can I work with?\n",
    "    Country (Categorical)\n",
    "    Year Added (Numerical)\n",
    "    Release Year (Numerical)\n",
    "    Month Added (Numerical)\n",
    "    Rating (Categorical)\n",
    "    Length (Numerical)\n",
    "    Seasons (Numerical)\n",
    "    Genre (listed_in) (Categorical)\n",
    "    Type (Categorical)\n"
   ]
  },
  {
   "cell_type": "markdown",
   "metadata": {},
   "source": [
    "### Special Functions"
   ]
  },
  {
   "cell_type": "code",
   "execution_count": null,
   "metadata": {},
   "outputs": [],
   "source": [
    "# combination of groupby and getCount function\n",
    "def getCountGB(data, unique_data, group_by, count_by):\n",
    "    grouped_by = data.groupby([group_by])\n",
    "    gb_count_dict = dict.fromkeys(grouped_by.groups.keys(), None)\n",
    "    for element in iter(grouped_by):\n",
    "        count_dict = dict.fromkeys(unique_data, 0)\n",
    "        state, frame = element\n",
    "        for unique_value in unique_data:\n",
    "            count = getCount(frame[count_by], unique_value)\n",
    "            count_dict[unique_value] = count\n",
    "        gb_count_dict[state] = count_dict\n",
    "    return gb_count_dict"
   ]
  },
  {
   "cell_type": "code",
   "execution_count": null,
   "metadata": {},
   "outputs": [],
   "source": [
    "# custom group by function to handle entries that need to be parsed first\n",
    "def group_by(data, unique_data):\n",
    "    unique_dict = dict.fromkeys(unique_data, None)\n",
    "    for unique_value in unique_data:\n",
    "        index = []\n",
    "        for j, values in enumerate(data):\n",
    "            if type(values) is not float:\n",
    "                if unique_value in values:\n",
    "                    index.append(j)\n",
    "        unique_dict[unique_value] = index\n",
    "    return unique_dict"
   ]
  },
  {
   "cell_type": "markdown",
   "metadata": {},
   "source": [
    "## What relationships can I explore?\n",
    "### Year Added (Trends)\n",
    "    - Is there a trend in content of a specific rating over time? (Rating) [DO FOR FILMS] \n",
    "    - Is there a trend in genre of content over time? (Genre) [DO FOR FILMS]\n",
    "    - Is Netflix favoring shorter or longer films/shows over time? (Length)[DONE]\n",
    "    - Is there a particular actor/actress that Netflix really likes recently? [NEED TO FIX]\n",
    "    - What is the trend of growth in volume for different country’s content? (Country) [DONE]"
   ]
  },
  {
   "cell_type": "markdown",
   "metadata": {},
   "source": [
    "### Is there a trend in genre of content over time? (Genre)"
   ]
  },
  {
   "cell_type": "code",
   "execution_count": null,
   "metadata": {},
   "outputs": [],
   "source": [
    "shows_2016_2020 = netflix_shows[(netflix_shows['year_added'] >= 2016) & (netflix_shows['year_added'] < 2021)]\n",
    "genre_dict_s_year = getCountGB(shows_2016_2020, unique_genres_shows, 'year_added', 'listed_in')\n",
    "\n",
    "genre_by_year_s = pd.DataFrame.from_dict(genre_dict_s_year, orient = 'index')\n",
    "\n",
    "genre_by_year_s = genre_by_year_s[genre_count_s['genre']]\n",
    "sns.set(rc = {'figure.figsize':(10, 10)})\n",
    "sns.set_style(\"whitegrid\")\n",
    "sns.lineplot(data = genre_by_year_s.loc[:, genre_by_year_s.columns!=\"Kids' TV\"], lw = 3)"
   ]
  },
  {
   "cell_type": "markdown",
   "metadata": {},
   "source": [
    "### Is there a trend in content of a specific rating over time? (Rating)"
   ]
  },
  {
   "cell_type": "code",
   "execution_count": null,
   "metadata": {},
   "outputs": [],
   "source": [
    "shows_ma = netflix_shows[(netflix_shows['rating'] == \"TV-MA\") & (netflix_shows['year_added'] >= 2016) & (netflix_shows['year_added'] < 2021)]\n",
    "genre_year_ma = getCountGB(shows_ma, unique_genres_shows, 'year_added', 'listed_in')\n",
    "genre_by_year_s = pd.DataFrame.from_dict(genre_year_ma, orient = 'index')\n",
    "\n",
    "genre_count_s['genre'] != \"Kids' TV\"\n",
    "genre_by_year_s[genre_count_s['genre']]\n",
    "genre_by_year_s[genre_count_s['genre']].loc[:, genre_by_year_s[genre_count_s['genre']].columns!=\"Kids' TV\"]\n",
    "\n",
    "genre_by_year_s = genre_by_year_s[genre_count_s['genre']]\n",
    "sns.set(rc = {'figure.figsize':(10, 10)})\n",
    "sns.set_style(\"whitegrid\")\n",
    "sns.lineplot(data = genre_by_year_s.loc[:, genre_by_year_s.columns!=\"Kids' TV\"], lw = 3)\n"
   ]
  },
  {
   "cell_type": "markdown",
   "metadata": {},
   "source": [
    "### Is Netflix favoring shorter or longer films/shows over time? (Length)"
   ]
  },
  {
   "cell_type": "code",
   "execution_count": null,
   "metadata": {},
   "outputs": [],
   "source": [
    "films_2016_2021 = netflix_films[netflix_films['year_added'] >= 2016]\n",
    "films_avg_length_by_year = films_2016_2021.groupby(['year_added'])['length'].mean().to_frame().reset_index()\n",
    "\n",
    "sns.lineplot(data = films_avg_length_by_year, x = \"year_added\", y = \"length\", lw = 3)"
   ]
  },
  {
   "cell_type": "code",
   "execution_count": null,
   "metadata": {},
   "outputs": [],
   "source": [
    "index = []\n",
    "for i, countries in enumerate(netflix_shows['country']):\n",
    "    if type(countries) is not float:\n",
    "        if \"South Korea\" in countries:\n",
    "            index.append(i)\n",
    "korean_shows = netflix_shows.iloc[index]"
   ]
  },
  {
   "cell_type": "code",
   "execution_count": null,
   "metadata": {},
   "outputs": [],
   "source": [
    "shows_actors = getUnique(korean_shows['cast'])\n",
    "actor_dict_s = dict.fromkeys(shows_actors, 0)\n",
    "for actor in shows_actors:\n",
    "    count = getCount(korean_shows['cast'], actor)\n",
    "    actor_dict_s[actor] = count"
   ]
  },
  {
   "cell_type": "code",
   "execution_count": null,
   "metadata": {},
   "outputs": [],
   "source": [
    "shows_actors_df = pd.DataFrame.from_dict(actor_dict_s, orient = 'index').reset_index()\n",
    "shows_actors_df = shows_actors_df.rename(columns = {\"index\": \"actor\", 0: \"appearance\"})\n",
    "shows_actors_df.sort_values(by = \"appearance\", ascending = False).head(15)"
   ]
  },
  {
   "cell_type": "code",
   "execution_count": null,
   "metadata": {},
   "outputs": [],
   "source": [
    "country_dict_s_year = getCountGB(shows_2016_2020, unique_countries_shows, 'year_added', 'country')\n",
    "\n",
    "country_by_year_s = pd.DataFrame.from_dict(country_dict_s_year, orient = 'index')\n",
    "country_by_year_s = country_by_year_s[country_count_s['country']]\n",
    "\n",
    "sns.set(rc = {'figure.figsize':(10, 10)})\n",
    "sns.set_style(\"whitegrid\")\n",
    "sns.lineplot(data = country_by_year_s, lw = 3)"
   ]
  },
  {
   "cell_type": "code",
   "execution_count": null,
   "metadata": {},
   "outputs": [],
   "source": [
    "sns.lineplot(data = country_by_year_s.loc[:, country_by_year_s.columns!=\"United States\"], lw = 3)"
   ]
  },
  {
   "cell_type": "code",
   "execution_count": null,
   "metadata": {},
   "outputs": [],
   "source": [
    "films_2016_2021 = netflix_films[(netflix_films['year_added'] >= 2016)]\n",
    "country_dict_f_year = getCountGB(films_2016_2021, unique_countries_films, 'year_added', 'country')\n",
    "\n",
    "country_list = list(country_count_f['country'])\n",
    "country_by_year_f = pd.DataFrame.from_dict(country_dict_f_year, orient = 'index')\n",
    "country_by_year_f = country_by_year_f[country_list]\n",
    "\n",
    "sns.set(rc = {'figure.figsize':(10, 10)})\n",
    "sns.set_style(\"whitegrid\")\n",
    "sns.lineplot(data = country_by_year_f, lw = 3)"
   ]
  },
  {
   "cell_type": "markdown",
   "metadata": {},
   "source": [
    "### Genre\n",
    "    - What are the dominating genres for popular ratings of films/shows? (Rating) [MIGHT NOT DO THIS BECAUSE ALREADY DID IT BUT OVER A TIME PERIOD]\n",
    "    - What is the average length of shows or movies in each popular genre? (Length/Seasons) [MIGHT NOT DO THIS FOR TV SHOWS]"
   ]
  },
  {
   "cell_type": "markdown",
   "metadata": {},
   "source": [
    "### What is the average length of shows or movies in each popular genre? (Length/Seasons)"
   ]
  },
  {
   "cell_type": "markdown",
   "metadata": {},
   "source": [
    "Group by genre, for the most popular genres (Dramas, Comedies, Documentaries | TV Dramas, TV Comedies, Crime TV Shows) and then get the average length in each genre. "
   ]
  },
  {
   "cell_type": "code",
   "execution_count": null,
   "metadata": {},
   "outputs": [],
   "source": [
    "unique_genres = ['Dramas', 'Comedies', 'Documentaries']\n",
    "unique_dict = group_by(netflix_films['listed_in'], unique_genres)\n",
    "df = []\n",
    "for key, value in unique_dict.items():\n",
    "    average = netflix_films['length'].iloc[value].mean()\n",
    "    row = [key, average]\n",
    "    df.append(row)\n",
    "avg_length_by_genre = pd.DataFrame(df, columns = [\"genre\", \"length\"])\n",
    "sns.barplot(x = \"genre\", y = \"length\", data = avg_length_by_genre)\n",
    "avg_length_by_genre"
   ]
  },
  {
   "cell_type": "markdown",
   "metadata": {},
   "source": [
    "### Is there a genre that Netflix prioritizes each month? (Month Added)"
   ]
  },
  {
   "cell_type": "markdown",
   "metadata": {},
   "source": [
    "### What is the most common release year in each of the popular genres? (Release Year)"
   ]
  },
  {
   "cell_type": "markdown",
   "metadata": {},
   "source": [
    "### Recent year movies and TV shows make up the most of Netflix's catalog [OBVIOUS!]"
   ]
  },
  {
   "cell_type": "markdown",
   "metadata": {},
   "source": [
    "### Country\n",
    "    - Is there more of a bias towards a type of entertainment for different countries? (Type)\n",
    "    - What is the average length of a show or movie for different countries? (Length)\n",
    "    - Is there a specific genre from that country that is dominating Netflix’s catalog overall and over time (Genre)\n",
    "    - What is the distribution of ratings the specific country? "
   ]
  },
  {
   "cell_type": "markdown",
   "metadata": {},
   "source": [
    "### Is there more of a bias towards a type of entertainment for different countries? (Type)"
   ]
  },
  {
   "cell_type": "code",
   "execution_count": null,
   "metadata": {},
   "outputs": [],
   "source": [
    "unique_countries_titles = getUnique(netflix_titles['country'])\n",
    "unique_countries_titles.remove(None)\n",
    "\n",
    "titles_country = group_by(netflix_titles['country'], unique_countries_titles)\n",
    "\n",
    "titles_country_2 = dict()\n",
    "\n",
    "for (key, value) in titles_country.items():\n",
    "    if len(value) >= 170:\n",
    "        titles_country_2[key] = value\n",
    "\n",
    "titles_country = titles_country_2\n",
    "\n",
    "titles_by_type = pd.DataFrame()\n",
    "for key, value in titles_country.items():\n",
    "    by_type = netflix_titles.iloc[value].groupby(['type'])['type'].count().to_frame()\n",
    "    by_type.rename(columns = {\"type\": key})\n",
    "    titles_by_type[key] = by_type\n",
    "\n",
    "titles_by_type = titles_by_type.T\n",
    "\n",
    "titles_by_type.plot(kind = 'bar', stacked = True)"
   ]
  },
  {
   "cell_type": "markdown",
   "metadata": {},
   "source": [
    "### What is the average length of a show or movie for different countries? (Length)"
   ]
  },
  {
   "cell_type": "code",
   "execution_count": null,
   "metadata": {},
   "outputs": [],
   "source": [
    "unique_countries_films.remove(None)\n",
    "films_country = group_by(netflix_films['country'], unique_countries_films)\n",
    "\n",
    "avg_length_by_country = dict.fromkeys(films_country, 0)\n",
    "for key, value in films_country.items():\n",
    "    average = netflix_films.iloc[value]['length'].mean()\n",
    "    avg_length_by_country[key] = average"
   ]
  },
  {
   "cell_type": "code",
   "execution_count": null,
   "metadata": {},
   "outputs": [],
   "source": [
    "avg_length_by_country_df = pd.DataFrame.from_dict(avg_length_by_country, orient = 'index')\n",
    "avg_length_by_country_df = avg_length_by_country_df.loc[country_count_f['country']]\n",
    "avg_length_by_country_df['country'] = avg_length_by_country_df.index\n",
    "avg_length_by_country_df = avg_length_by_country_df.rename(columns = {0: \"average_length\"})\n",
    "sns.barplot(data = avg_length_by_country_df, x = 'average_length', y = 'country')"
   ]
  },
  {
   "cell_type": "markdown",
   "metadata": {},
   "source": [
    "### Is there a specific genre from that country that is dominating Netflix’s catalog overall (Genre)"
   ]
  },
  {
   "cell_type": "code",
   "execution_count": null,
   "metadata": {},
   "outputs": [],
   "source": [
    "genres_country_dict = dict()\n",
    "for country_key, country_value in films_country.items():\n",
    "    group = netflix_films.iloc[country_value]\n",
    "    sub_group = group_by(group['listed_in'], unique_genres_films)\n",
    "    for genre_key, genre_value in sub_group.items():\n",
    "        if len(genre_value) >= 50:\n",
    "            genres_country_dict[(country_key, genre_key)] = len(genre_value)"
   ]
  },
  {
   "cell_type": "code",
   "execution_count": null,
   "metadata": {},
   "outputs": [],
   "source": [
    "country, genre = list(zip(*genres_country_dict.keys()))\n",
    "genres_country_dict_df = {'country': country, 'genre': genre, 'count': genres_country_dict.values()}\n",
    "genres_country_dict_df = pd.DataFrame.from_dict(genres_country_dict_df)\n",
    "genres_country_dict_df.head(5)"
   ]
  },
  {
   "cell_type": "markdown",
   "metadata": {},
   "source": [
    "### What is the distribution of ratings for each country? "
   ]
  },
  {
   "cell_type": "markdown",
   "metadata": {},
   "source": [
    "### Others\n",
    "    - What is the dominating rating of movies for different months added? Is there a consistent trend? (Rating + Month Added)\n",
    "    - What is the average length of movies and shows for different ratings? (Rating + Length)\n",
    "    - Is there a genre that Netflix prioritizes each month depending on the country? (Country and Month Added and Genre)\n",
    "    - Most credited director on Netflix"
   ]
  },
  {
   "cell_type": "code",
   "execution_count": null,
   "metadata": {},
   "outputs": [],
   "source": [
    "films_india_index = group_by(netflix_films['country'], 'India')\n",
    "films_india_index = list(films_india_index.values())[0]\n",
    "films_india = netflix_films.iloc[films_india_index]\n",
    "\n",
    "grouped_by = films_india.groupby(['month_added'])\n",
    "for element in iter(grouped_by):\n",
    "    state, frame = element\n",
    "    "
   ]
  },
  {
   "cell_type": "markdown",
   "metadata": {},
   "source": [
    "# Pitch Idea: The Perfect Movie and Show Formula"
   ]
  },
  {
   "cell_type": "markdown",
   "metadata": {},
   "source": [
    "1. Why pitch both films and shows? -> show growth in volume of both shows and films on Netflix\n",
    "2. Films\n",
    "    - Overall\n",
    "    - Country-specific\n",
    "3. Shows\n",
    "    - Overall\n",
    "    - Country specific"
   ]
  },
  {
   "cell_type": "markdown",
   "metadata": {},
   "source": []
  }
 ],
 "metadata": {
  "kernelspec": {
   "display_name": "Python 3.10.4 ('zuckflix')",
   "language": "python",
   "name": "python3"
  },
  "language_info": {
   "codemirror_mode": {
    "name": "ipython",
    "version": 3
   },
   "file_extension": ".py",
   "mimetype": "text/x-python",
   "name": "python",
   "nbconvert_exporter": "python",
   "pygments_lexer": "ipython3",
   "version": "3.10.4"
  },
  "orig_nbformat": 4,
  "vscode": {
   "interpreter": {
    "hash": "47a908a74fb79d390610eecad113693dbe1bc117a7612ec28739f1e5dc0393b4"
   }
  }
 },
 "nbformat": 4,
 "nbformat_minor": 2
}
